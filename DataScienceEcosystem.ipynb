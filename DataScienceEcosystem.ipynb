{
 "cells": [
  {
   "cell_type": "markdown",
   "id": "fa4d56fd-d26f-4dc4-a69c-3a90c2a93492",
   "metadata": {},
   "source": [
    "# Data Science Tools and Ecosystem"
   ]
  },
  {
   "cell_type": "markdown",
   "id": "52aea30a-875a-4912-ab4c-fc3110b09fd3",
   "metadata": {},
   "source": [
    "In this notebook, Data Science Tools and Ecosystem are summarized."
   ]
  },
  {
   "cell_type": "markdown",
   "id": "997a0229-378e-4882-bd48-9a57fcefebc0",
   "metadata": {},
   "source": [
    "**Objectives:**\n",
    "- List popular languages for Data Science\n",
    "- List some libraries commonly used by Data Scientists\n",
    "- List Three development environment open source tools used in data science\n",
    "- List few examples of evaluating arithmetic expressions in Python\n"
   ]
  },
  {
   "cell_type": "markdown",
   "id": "49ab9989-759e-4496-8683-76cea58a87c5",
   "metadata": {},
   "source": [
    "Some of the popular languages that Data Scientists use are:\n",
    "1. Python\n",
    "2. R\n",
    "3. SQL"
   ]
  },
  {
   "cell_type": "markdown",
   "id": "3715ae4f-fcb3-4d43-bbd8-2d82e3cdc8a4",
   "metadata": {},
   "source": [
    "Some of the commonly used libraries used by Data Scientists include:\n",
    "1. Scikit-learn\n",
    "2. NumPy\n",
    "3. Pandas \n",
    "4. Seaborn\n",
    "5. TensorFLow"
   ]
  },
  {
   "cell_type": "markdown",
   "id": "dab27c27-9041-4316-a96f-0819483785bb",
   "metadata": {},
   "source": [
    "Three development environment open source tools used in data science:\n",
    "\n",
    "|Data Science Tools|\n",
    "|--------------------|\n",
    "|Jupyter NoteBook |\n",
    "|RStudio|\n",
    "|Visual Studio Code ( with python extensions)|\n",
    "\n",
    "\n"
   ]
  },
  {
   "cell_type": "markdown",
   "id": "08d87920-61be-43e2-bffe-f1ecc5a23d92",
   "metadata": {},
   "source": [
    "### Below are a few examples of evaluating arithmetic expressions in Python:\n",
    "- Addition :'a + b'\n",
    "- Subtraction: 'a - b'\n",
    "- Multiplication : 'a * b'\n"
   ]
  },
  {
   "cell_type": "code",
   "execution_count": 3,
   "id": "fc42aabd-fffa-4453-b33f-aff9f98397a0",
   "metadata": {
    "tags": []
   },
   "outputs": [
    {
     "data": {
      "text/plain": [
       "17"
      ]
     },
     "execution_count": 3,
     "metadata": {},
     "output_type": "execute_result"
    }
   ],
   "source": [
    "# This a simple arithmetic expression to mutiply then add integers\n",
    "(3*4)+5"
   ]
  },
  {
   "cell_type": "code",
   "execution_count": 4,
   "id": "b0b467f2-4434-4399-a9af-7c2f7667f6c1",
   "metadata": {
    "tags": []
   },
   "outputs": [
    {
     "data": {
      "text/plain": [
       "3.3333333333333335"
      ]
     },
     "execution_count": 4,
     "metadata": {},
     "output_type": "execute_result"
    }
   ],
   "source": [
    "# This will convert 200 minutes to hours by diving by 60\n",
    "minutes = 200\n",
    "hours = minutes / 60\n",
    "\n",
    "hours"
   ]
  },
  {
   "cell_type": "markdown",
   "id": "c3a1855a-1382-411f-afdf-5fa34610d637",
   "metadata": {},
   "source": [
    "## Author\n",
    "Dahmani Lydia"
   ]
  }
 ],
 "metadata": {
  "kernelspec": {
   "display_name": "Python",
   "language": "python",
   "name": "conda-env-python-py"
  },
  "language_info": {
   "codemirror_mode": {
    "name": "ipython",
    "version": 3
   },
   "file_extension": ".py",
   "mimetype": "text/x-python",
   "name": "python",
   "nbconvert_exporter": "python",
   "pygments_lexer": "ipython3",
   "version": "3.7.12"
  }
 },
 "nbformat": 4,
 "nbformat_minor": 5
}
